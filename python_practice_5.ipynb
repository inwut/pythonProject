{
 "nbformat": 4,
 "nbformat_minor": 0,
 "metadata": {
  "colab": {
   "provenance": []
  },
  "kernelspec": {
   "name": "python3",
   "display_name": "Python 3"
  },
  "language_info": {
   "name": "python"
  }
 },
 "cells": [
  {
   "cell_type": "markdown",
   "source": [
    "# I. OOP"
   ],
   "metadata": {
    "id": "5qV_sehzFCTp"
   }
  },
  {
   "cell_type": "markdown",
   "source": [
    "1. (6б). Створіть клас Animal, додайте три атрибути, один з яких має значення за замовчуванням та два методи на свій розсуд."
   ],
   "metadata": {
    "id": "tx_U_hOALyfg"
   }
  },
  {
   "cell_type": "code",
   "source": [
    "class Animal:\n",
    "  def __init__(self, species, name, age=0):\n",
    "    self.species = species\n",
    "    self.name = name\n",
    "    self.age = age\n",
    "\n",
    "  def eat(self, food):\n",
    "    print(f\"{self.species} {self.name} eats {food}\")\n",
    "\n",
    "  def age_difference(self, other_animal):\n",
    "    if isinstance(other_animal, Animal):\n",
    "      difference = abs(self.age - other_animal.age)\n",
    "      print(f\"The difference in age between {self.name} and {other_animal.name} is {difference}\")\n",
    "    else:\n",
    "      print(f\"{other_animal} is not an Animal!\")"
   ],
   "metadata": {
    "id": "-Vf895KaL88N"
   },
   "execution_count": 24,
   "outputs": []
  },
  {
   "cell_type": "markdown",
   "source": [
    "2. (2б). Створіть два обʼєкти цього класу, де один з обʼєктів створюється із дефолтним значенням атрибуту. На одному обʼєкті отримайте значення його атрибуту, а на іншому викличте один з його методів."
   ],
   "metadata": {
    "id": "X_UlOMB0L93w"
   }
  },
  {
   "cell_type": "code",
   "source": [
    "animal_1 = Animal(\"cat\", \"Anton\", 10)\n",
    "animal_2 = Animal(\"parrot\", \"Kesha\")\n",
    "print(animal_1.age)\n",
    "animal_2.age_difference(animal_1)"
   ],
   "metadata": {
    "id": "7gBu0ESOMCpG",
    "colab": {
     "base_uri": "https://localhost:8080/"
    },
    "outputId": "8e43eda8-80fb-4b9d-9909-86529fd4335e"
   },
   "execution_count": 25,
   "outputs": [
    {
     "output_type": "stream",
     "name": "stdout",
     "text": [
      "10\n",
      "The difference in age between Kesha and Anton is 10\n"
     ]
    }
   ]
  },
  {
   "cell_type": "markdown",
   "source": [
    "3. (5б). Створіть клас, де атрибути мають різні рівні доступу. Спробуйте отримати їхні значення та опишіть результати."
   ],
   "metadata": {
    "id": "HoqSCZt1MHn5"
   }
  },
  {
   "cell_type": "code",
   "source": [
    "class Product:\n",
    "  def __init__(self, category, price, quantity):\n",
    "    self.category = category\n",
    "    self._price = price\n",
    "    self__quantity = quantity\n",
    "\n",
    "\n",
    "product = Product(\"Food\", 150, 500)\n",
    "print(product.category)\n",
    "print(product._price)\n",
    "print(product.__quantity)"
   ],
   "metadata": {
    "id": "r9b3vJxBMSPV",
    "colab": {
     "base_uri": "https://localhost:8080/",
     "height": 211
    },
    "outputId": "0b5ad28d-c26d-4423-ea33-ddfa8baafac9"
   },
   "execution_count": 20,
   "outputs": [
    {
     "output_type": "stream",
     "name": "stdout",
     "text": [
      "Food\n",
      "150\n"
     ]
    },
    {
     "output_type": "error",
     "ename": "AttributeError",
     "evalue": "'Product' object has no attribute '__quantity'",
     "traceback": [
      "\u001B[0;31m---------------------------------------------------------------------------\u001B[0m",
      "\u001B[0;31mAttributeError\u001B[0m                            Traceback (most recent call last)",
      "\u001B[0;32m<ipython-input-20-60c282ea7369>\u001B[0m in \u001B[0;36m<cell line: 11>\u001B[0;34m()\u001B[0m\n\u001B[1;32m      9\u001B[0m \u001B[0mprint\u001B[0m\u001B[0;34m(\u001B[0m\u001B[0mproduct\u001B[0m\u001B[0;34m.\u001B[0m\u001B[0mcategory\u001B[0m\u001B[0;34m)\u001B[0m\u001B[0;34m\u001B[0m\u001B[0;34m\u001B[0m\u001B[0m\n\u001B[1;32m     10\u001B[0m \u001B[0mprint\u001B[0m\u001B[0;34m(\u001B[0m\u001B[0mproduct\u001B[0m\u001B[0;34m.\u001B[0m\u001B[0m_price\u001B[0m\u001B[0;34m)\u001B[0m\u001B[0;34m\u001B[0m\u001B[0;34m\u001B[0m\u001B[0m\n\u001B[0;32m---> 11\u001B[0;31m \u001B[0mprint\u001B[0m\u001B[0;34m(\u001B[0m\u001B[0mproduct\u001B[0m\u001B[0;34m.\u001B[0m\u001B[0m__quantity\u001B[0m\u001B[0;34m)\u001B[0m\u001B[0;34m\u001B[0m\u001B[0;34m\u001B[0m\u001B[0m\n\u001B[0m",
      "\u001B[0;31mAttributeError\u001B[0m: 'Product' object has no attribute '__quantity'"
     ]
    }
   ]
  },
  {
   "cell_type": "markdown",
   "source": [
    "Зовні класу ми маємо доступ лише до public і protected атрибутів, а спроба доступу до private атрибуту викликає помилку. (хоча доступ до protected атрибутів повинен здійснятися лише в cамому класі та в класах нащадхак, програмно це не реалізовано, а є лише домовленістю)"
   ],
   "metadata": {
    "id": "NKYl3Q3M067q"
   }
  },
  {
   "cell_type": "markdown",
   "source": [
    "4. (7б). Як ви розумієте термін self? Для чого використовується метод __init __?"
   ],
   "metadata": {
    "id": "5op2m2vgMSkZ"
   }
  },
  {
   "cell_type": "markdown",
   "source": [
    "self - це змінна, яка завжди є першим аргументом в методах класу і є посиланням на конкретний об'єкт цього класу.\n",
    "\n",
    "__init __ - метод ініціалізації атрибутів об'єкту певного класу. Він є дандер методом і завжди визначається першим в класі. Цей метод викликається неявно при створенні нового об'єкту класу."
   ],
   "metadata": {
    "id": "DyiPqNRvMasx"
   }
  },
  {
   "cell_type": "markdown",
   "source": [
    "5. (9б). Створіть клас Фігура без атрибутів, з методом get_area для отримання площі фігури, що повертає 0 та __add __, який приймає self та other в якості аргументів, а повертає суму площин фігур self та other."
   ],
   "metadata": {
    "id": "-6X8EGfjMd2y"
   }
  },
  {
   "cell_type": "markdown",
   "source": [],
   "metadata": {
    "id": "Xm_Zdrf4MDqi"
   }
  },
  {
   "cell_type": "code",
   "source": [
    "class Figure:\n",
    "  def get_area(self):\n",
    "    return 0\n",
    "\n",
    "  def __add__(self, other):\n",
    "    return self.get_area() + other.get_area()"
   ],
   "metadata": {
    "id": "4rvO_wYUMaEr"
   },
   "execution_count": 13,
   "outputs": []
  },
  {
   "cell_type": "markdown",
   "source": [
    "6. (11б). Створіть 2 дочірніх класи від Фігури: Трикутник та Коло, які мають атрибути, необхідні для розрахунку площин. Визначте метод get_area в кожному з них так, щоби вони розраховували площу в залежності від формули для кожного типу фігури. Створіть обʼєкт класу Трикутник та обʼєкт класу Коло. Виконайте операцію суми за допомогою оператора + між ними."
   ],
   "metadata": {
    "id": "SFcKnnv5Mo_z"
   }
  },
  {
   "cell_type": "code",
   "source": [
    "import math\n",
    "\n",
    "\n",
    "class Triangle(Figure):\n",
    "  def __init__(self, side, height):\n",
    "    self.side = side\n",
    "    self.height = height\n",
    "\n",
    "  def get_area(self):\n",
    "    return 0.5 * self.side * self.height\n",
    "\n",
    "\n",
    "class Circle(Figure):\n",
    "  def __init__(self, radius):\n",
    "    self.radius = radius\n",
    "\n",
    "  def get_area(self):\n",
    "    return math.pi * self.radius ** 2\n",
    "\n",
    "\n",
    "triangle = Triangle(5, 6)\n",
    "circle = Circle(3)\n",
    "triangle + circle"
   ],
   "metadata": {
    "id": "H3GVNr69Muf3",
    "colab": {
     "base_uri": "https://localhost:8080/"
    },
    "outputId": "5fb3fd00-9588-466e-d3ad-d02ed839a10f"
   },
   "execution_count": 27,
   "outputs": [
    {
     "output_type": "execute_result",
     "data": {
      "text/plain": [
       "43.27433388230814"
      ]
     },
     "metadata": {},
     "execution_count": 27
    }
   ]
  },
  {
   "cell_type": "markdown",
   "source": [
    "7. (3б). Продемонструйте різницю між isinstance та issubclass."
   ],
   "metadata": {
    "id": "HCvR206YMvLK"
   }
  },
  {
   "cell_type": "code",
   "source": [
    "print(isinstance(Triangle, Figure))\n",
    "print(issubclass(Triangle, Figure))\n",
    "print(isinstance(Triangle, Triangle))\n",
    "print(issubclass(Triangle, Triangle))\n",
    "print(isinstance(triangle, Figure))\n",
    "print(isinstance(triangle, Triangle))"
   ],
   "metadata": {
    "id": "L_V1bBvDM0GN",
    "colab": {
     "base_uri": "https://localhost:8080/"
    },
    "outputId": "235fda7f-70a6-419a-ccd1-d816b42d996e"
   },
   "execution_count": 33,
   "outputs": [
    {
     "output_type": "stream",
     "name": "stdout",
     "text": [
      "False\n",
      "True\n",
      "False\n",
      "True\n",
      "True\n",
      "True\n"
     ]
    }
   ]
  },
  {
   "cell_type": "markdown",
   "source": [
    "8. (13б). Створіть клас BankAccount з приватними атрибутами balance та account_number. Реалізуйте методи поповнення та зняття коштів, забезпечивши належну інкапсуляцію. Підказка: використовуйте декоратори property та setter."
   ],
   "metadata": {
    "id": "jjsaBZ-iM0Qq"
   }
  },
  {
   "cell_type": "code",
   "source": [
    "class BankAccount:\n",
    "  def __init__(self, balance, account_number):\n",
    "    self.__balance = balance\n",
    "    self.__account_number = account_number\n",
    "\n",
    "  @property\n",
    "  def balance(self):\n",
    "    return self.__balance\n",
    "\n",
    "  @balance.setter\n",
    "  def balance(self, value):\n",
    "    self.__balance = value\n",
    "\n",
    "  @property\n",
    "  def account_number(self):\n",
    "    return self.__account_number\n",
    "\n",
    "  @account_number.setter\n",
    "  def account_number(self, value):\n",
    "    self.__account_number = value\n",
    "\n",
    "  def replenish(self, funds):\n",
    "    self.balance += funds\n",
    "\n",
    "  def withdraw(self, funds):\n",
    "    if self.balance >= funds:\n",
    "      self.balance -= funds\n",
    "    else:\n",
    "      print(f\"You can not withdraw {funds} because your balance is {self.balance}\")\n",
    "\n",
    "\n",
    "bank_account = BankAccount(1500, \"123456789\")\n",
    "print(bank_account.balance)\n",
    "print(bank_account.account_number)\n",
    "bank_account.replenish(500)\n",
    "print(bank_account.balance)\n",
    "bank_account.withdraw(1000)\n",
    "print(bank_account.balance)\n",
    "bank_account.withdraw(1500)\n",
    "print(bank_account.balance)"
   ],
   "metadata": {
    "id": "xCvZ7lh8M7YA",
    "colab": {
     "base_uri": "https://localhost:8080/"
    },
    "outputId": "76567f89-6c0f-4462-d41a-7fbbbf2b4b03"
   },
   "execution_count": 35,
   "outputs": [
    {
     "output_type": "stream",
     "name": "stdout",
     "text": [
      "1500\n",
      "123456789\n",
      "2000\n",
      "1000\n",
      "You can not withdraw 1500 because your balance is 1000\n",
      "1000\n"
     ]
    }
   ]
  },
  {
   "cell_type": "markdown",
   "source": [
    "9. (11б). Створіть клас Library, який містить список об'єктів типу Book. Реалізуйте методи для додавання книги, видалення книги та відображення списку книг."
   ],
   "metadata": {
    "id": "tIzL2SJTM8ft"
   }
  },
  {
   "cell_type": "code",
   "source": [
    "class Book:\n",
    "  def __init__(self, title, author):\n",
    "    self.title = title\n",
    "    self.author = author\n",
    "\n",
    "  def __str__(self):\n",
    "    return f\"Title: {self.title}, Author: {self.author}\"\n",
    "\n",
    "\n",
    "class Library:\n",
    "  def __init__(self):\n",
    "    self.books = []\n",
    "\n",
    "  def __str__(self):\n",
    "    books_list = '\\n'.join(str(book) for book in self.books)\n",
    "    return f\"List of books:\\n{books_list}\"\n",
    "\n",
    "  def add_book(self, book):\n",
    "    if isinstance(book, Book):\n",
    "      self.books.append(book)\n",
    "    else:\n",
    "      print(f\"{book} is not a Book!\")\n",
    "\n",
    "  def remove_book(self, book):\n",
    "    if book in self.books:\n",
    "      self.books.remove(book)\n",
    "    else:\n",
    "      print(f\"{book} is not in the library\")\n",
    "\n",
    "\n",
    "book1 = Book(\"The Little Prince\", \"Antoine de Saint-Exupery\")\n",
    "book2 = Book(\"1984\", \"George Orwell\")\n",
    "book3 = Book(\"Harry Potter\", \"Joanne Rowling\")\n",
    "library = Library()\n",
    "library.add_book(book1)\n",
    "library.add_book(book2)\n",
    "library.add_book(book3)\n",
    "library.add_book(\"ddd\")\n",
    "print(library)\n",
    "library.remove_book(book2)\n",
    "print(library)\n",
    "library.remove_book(\"hhh\")"
   ],
   "metadata": {
    "id": "HWxfJKLtNAUZ",
    "colab": {
     "base_uri": "https://localhost:8080/"
    },
    "outputId": "05685631-33a8-4e96-a1d0-a2c990a2383c"
   },
   "execution_count": 42,
   "outputs": [
    {
     "output_type": "stream",
     "name": "stdout",
     "text": [
      "ddd is not a Book!\n",
      "List of books:\n",
      "Tiltle: The Little Prince, Author: Antoine de Saint-Exupery\n",
      "Tiltle: 1984, Author: George Orwell\n",
      "Tiltle: Harry Potter, Author: Joanne Rowling\n",
      "List of books:\n",
      "Tiltle: The Little Prince, Author: Antoine de Saint-Exupery\n",
      "Tiltle: Harry Potter, Author: Joanne Rowling\n",
      "hhh is not in the library\n"
     ]
    }
   ]
  },
  {
   "cell_type": "markdown",
   "source": [
    "10. (13б). Створіть клас Person з атрибутами name та age. Створіть ще один клас Employee з такими атрибутами, як department та salary. Створіть клас Manager, який успадковує обидва класи Person та Employee. Продемонструйте використання множинної спадковості, створивши обʼєкт класу Manager та отримавши mro для цього класу."
   ],
   "metadata": {
    "id": "lmV8pAwwNIqu"
   }
  },
  {
   "cell_type": "code",
   "source": [
    "class Person:\n",
    "  def __init__(self, name, age):\n",
    "    self.name = name\n",
    "    self.age = age\n",
    "\n",
    "\n",
    "class Employee:\n",
    "  def __init__(self, department, salary):\n",
    "    self.department = department\n",
    "    self.salary = salary\n",
    "\n",
    "\n",
    "class Manager(Person, Employee):\n",
    "  def __init__(self, name, age, department, salary):\n",
    "    Person.__init__(self, name, age)\n",
    "    Employee.__init__(self, department, salary)\n",
    "\n",
    "\n",
    "manager = Manager(\"Daria\", 19, \"IT\", 800)\n",
    "Manager.__mro__"
   ],
   "metadata": {
    "id": "R49grKlWNPeN",
    "colab": {
     "base_uri": "https://localhost:8080/"
    },
    "outputId": "ece38dbe-1829-4fb8-e95a-f40b882f49ba"
   },
   "execution_count": 49,
   "outputs": [
    {
     "output_type": "execute_result",
     "data": {
      "text/plain": [
       "(__main__.Manager, __main__.Person, __main__.Employee, object)"
      ]
     },
     "metadata": {},
     "execution_count": 49
    }
   ]
  },
  {
   "cell_type": "markdown",
   "source": [
    "# II. Iterator"
   ],
   "metadata": {
    "id": "dIJyUiNBFG8G"
   }
  },
  {
   "cell_type": "markdown",
   "source": [
    "11. (4б). Визначте рядок(str) з 4ма різними за значенням символами. Створіть ітератор на основі цього рядка. Викличте 5 разів функцію next на ітераторі, 4ри перших з них огорніть у ф-цію print()."
   ],
   "metadata": {
    "id": "13vsm0NyKIzL"
   }
  },
  {
   "cell_type": "code",
   "source": [
    "my_str = \"mnkl\"\n",
    "str_iterator = iter(my_str)\n",
    "print(next(str_iterator))\n",
    "print(next(str_iterator))\n",
    "print(next(str_iterator))\n",
    "print(next(str_iterator))\n",
    "next(str_iterator)"
   ],
   "metadata": {
    "id": "81ntabAkKuz-",
    "colab": {
     "base_uri": "https://localhost:8080/",
     "height": 245
    },
    "outputId": "b5fb4c83-ecd6-4afd-c2a6-0bca0d6be5ba"
   },
   "execution_count": 50,
   "outputs": [
    {
     "output_type": "stream",
     "name": "stdout",
     "text": [
      "m\n",
      "n\n",
      "k\n",
      "l\n"
     ]
    },
    {
     "output_type": "error",
     "ename": "StopIteration",
     "evalue": "",
     "traceback": [
      "\u001B[0;31m---------------------------------------------------------------------------\u001B[0m",
      "\u001B[0;31mStopIteration\u001B[0m                             Traceback (most recent call last)",
      "\u001B[0;32m<ipython-input-50-be5865e3e40c>\u001B[0m in \u001B[0;36m<cell line: 7>\u001B[0;34m()\u001B[0m\n\u001B[1;32m      5\u001B[0m \u001B[0mprint\u001B[0m\u001B[0;34m(\u001B[0m\u001B[0mnext\u001B[0m\u001B[0;34m(\u001B[0m\u001B[0mstr_iterator\u001B[0m\u001B[0;34m)\u001B[0m\u001B[0;34m)\u001B[0m\u001B[0;34m\u001B[0m\u001B[0;34m\u001B[0m\u001B[0m\n\u001B[1;32m      6\u001B[0m \u001B[0mprint\u001B[0m\u001B[0;34m(\u001B[0m\u001B[0mnext\u001B[0m\u001B[0;34m(\u001B[0m\u001B[0mstr_iterator\u001B[0m\u001B[0;34m)\u001B[0m\u001B[0;34m)\u001B[0m\u001B[0;34m\u001B[0m\u001B[0;34m\u001B[0m\u001B[0m\n\u001B[0;32m----> 7\u001B[0;31m \u001B[0mnext\u001B[0m\u001B[0;34m(\u001B[0m\u001B[0mstr_iterator\u001B[0m\u001B[0;34m)\u001B[0m\u001B[0;34m\u001B[0m\u001B[0;34m\u001B[0m\u001B[0m\n\u001B[0m",
      "\u001B[0;31mStopIteration\u001B[0m: "
     ]
    }
   ]
  },
  {
   "cell_type": "markdown",
   "source": [
    "А що якщо викликати цю ж функцію на рядку?"
   ],
   "metadata": {
    "id": "aekWHGXOLRsO"
   }
  },
  {
   "cell_type": "code",
   "source": [
    "next(my_str)"
   ],
   "metadata": {
    "id": "mxATGsErLV1i",
    "colab": {
     "base_uri": "https://localhost:8080/",
     "height": 141
    },
    "outputId": "8313092b-19d5-4fee-b2e4-8088efa5322a"
   },
   "execution_count": 51,
   "outputs": [
    {
     "output_type": "error",
     "ename": "TypeError",
     "evalue": "'str' object is not an iterator",
     "traceback": [
      "\u001B[0;31m---------------------------------------------------------------------------\u001B[0m",
      "\u001B[0;31mTypeError\u001B[0m                                 Traceback (most recent call last)",
      "\u001B[0;32m<ipython-input-51-b507c466c498>\u001B[0m in \u001B[0;36m<cell line: 1>\u001B[0;34m()\u001B[0m\n\u001B[0;32m----> 1\u001B[0;31m \u001B[0mnext\u001B[0m\u001B[0;34m(\u001B[0m\u001B[0mmy_str\u001B[0m\u001B[0;34m)\u001B[0m\u001B[0;34m\u001B[0m\u001B[0;34m\u001B[0m\u001B[0m\n\u001B[0m",
      "\u001B[0;31mTypeError\u001B[0m: 'str' object is not an iterator"
     ]
    }
   ]
  },
  {
   "cell_type": "markdown",
   "source": [
    " 12. (5б). Опишіть своїми словами в одному реченні, як ви розумієте різницю між ітерабельними обʼєктами та ітераторами (можна на прикладі)."
   ],
   "metadata": {
    "id": "XwtMEopwJ4pH"
   }
  },
  {
   "cell_type": "markdown",
   "source": [
    "Ітератори - це об'єкти, які використовуються для того, щоб ітеруватись по ітерабельним об'єктам (списках, кортежах, словниках тощо)."
   ],
   "metadata": {
    "id": "-sHrODc3KFn8"
   }
  },
  {
   "cell_type": "markdown",
   "source": [
    "13. (11б). Створіть клас, що має визначений Iterator Protocol та при кожному виклику next повертає літери англійської абетки, поки вони не вичерпаються."
   ],
   "metadata": {
    "id": "E9qJWmNbK8Gl"
   }
  },
  {
   "cell_type": "code",
   "source": [
    "class Alphabet:\n",
    "  def __init__(self):\n",
    "    self.current = 'a'\n",
    "\n",
    "  def __iter__(self):\n",
    "    return self\n",
    "\n",
    "  def __next__(self):\n",
    "    if ord(self.current) > ord('z'):\n",
    "      raise StopIteration\n",
    "    else:\n",
    "      result = self.current\n",
    "      self.current = chr(ord(self.current) + 1)\n",
    "      return result\n",
    "\n",
    "\n",
    "alphabet = Alphabet()\n",
    "for letter in alphabet:\n",
    "  print(letter)"
   ],
   "metadata": {
    "id": "cqx-g_RsLo6I",
    "colab": {
     "base_uri": "https://localhost:8080/"
    },
    "outputId": "ff2eb5ba-5a16-40d8-ef88-6a01460b2134"
   },
   "execution_count": 57,
   "outputs": [
    {
     "output_type": "stream",
     "name": "stdout",
     "text": [
      "a\n",
      "b\n",
      "c\n",
      "d\n",
      "e\n",
      "f\n",
      "g\n",
      "h\n",
      "i\n",
      "j\n",
      "k\n",
      "l\n",
      "m\n",
      "n\n",
      "o\n",
      "p\n",
      "q\n",
      "r\n",
      "s\n",
      "t\n",
      "u\n",
      "v\n",
      "w\n",
      "x\n",
      "y\n",
      "z\n"
     ]
    }
   ]
  },
  {
   "cell_type": "markdown",
   "source": [
    "# Вітаю! Ви велика(ий) молодець, що впоралась(вся). Похваліть себе та побалуйте чимось приємним. Я Вами пишаюся."
   ],
   "metadata": {
    "id": "Z3E3S_s1Fv7-"
   }
  }
 ]
}
