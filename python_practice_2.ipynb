{
  "nbformat": 4,
  "nbformat_minor": 0,
  "metadata": {
    "colab": {
      "provenance": []
    },
    "kernelspec": {
      "name": "python3",
      "display_name": "Python 3"
    },
    "language_info": {
      "name": "python"
    }
  },
  "cells": [
    {
      "cell_type": "markdown",
      "source": [
        "# I. Змінні та памʼять."
      ],
      "metadata": {
        "id": "p9wwt0LZzNvn"
      }
    },
    {
      "cell_type": "markdown",
      "source": [
        "1. Створити змінні, що посилаються на два цілих числа, що однакові за значенням, де значення належить проміжку від -5 до 256. Перевірте, чи будуть ці змінні рівні тільки за значенням або ж ще будуть посилатися на один і той самий обʼєкт в памʼяті? Наведіть код та дайте текстову відповідь нижче."
      ],
      "metadata": {
        "id": "HTJrrm95xSV9"
      }
    },
    {
      "cell_type": "code",
      "execution_count": 40,
      "metadata": {
        "id": "TATni2vzayjG",
        "colab": {
          "base_uri": "https://localhost:8080/"
        },
        "outputId": "4ca9787f-786a-43ce-b3c3-3e0ffc2c1716"
      },
      "outputs": [
        {
          "output_type": "stream",
          "name": "stdout",
          "text": [
            "True\n",
            "True\n"
          ]
        }
      ],
      "source": [
        "a = 5\n",
        "b = 5\n",
        "print(a == b)\n",
        "print(id(a) == id(b))"
      ]
    },
    {
      "cell_type": "markdown",
      "source": [
        "Змінні a і b є змінними типу int та належать діапазону чисел від -5 до 256 та є однаковими за значенням, а  також мають однакове id, що підтверджує, що вони посилаються на один і той самий об'єкт в пам'яті."
      ],
      "metadata": {
        "id": "zfRG_o3WbRdg"
      }
    },
    {
      "cell_type": "markdown",
      "source": [
        "2. За допомогою якої функції можна перевірити належність змінної до вказаного типу даних (напр. чи змінна True посилається на значення булевого та цілочисленого типу)?"
      ],
      "metadata": {
        "id": "ISORzt6M3vAt"
      }
    },
    {
      "cell_type": "code",
      "source": [
        "my_bool = True\n",
        "print(isinstance(my_bool, bool))\n",
        "print(isinstance(my_bool, int))"
      ],
      "metadata": {
        "id": "9vL9CFaMbfyo",
        "colab": {
          "base_uri": "https://localhost:8080/"
        },
        "outputId": "ef09bd62-bef5-4b64-89cc-d3ef67b1281a"
      },
      "execution_count": 41,
      "outputs": [
        {
          "output_type": "stream",
          "name": "stdout",
          "text": [
            "True\n",
            "True\n"
          ]
        }
      ]
    },
    {
      "cell_type": "markdown",
      "source": [
        "# II. Цілі числа та числа з рухомою комою"
      ],
      "metadata": {
        "id": "tRxugKAxwYLw"
      }
    },
    {
      "cell_type": "markdown",
      "source": [
        "3. Створити дві змінні, що посилаються на будь-які ціле число та число з рухомою комою та продемонструвати такі арифметичні операції: додавання, віднімання, ділення, множення, ділення без залишку, ділення по модулю, приведення до ступеню. Всі результати операцій вивести на екран."
      ],
      "metadata": {
        "id": "NLHkgd5Gybc8"
      }
    },
    {
      "cell_type": "code",
      "source": [
        "num1 = 10\n",
        "num2 = 1.5\n",
        "print(num1 + num2)\n",
        "print(num1 - num2)\n",
        "print(num1 / num2)\n",
        "print(num1 * num2)\n",
        "print(num1 // num2)\n",
        "print(num1 % num2)\n",
        "print(num1 ** num2)"
      ],
      "metadata": {
        "id": "nb8u_3pjb2cA",
        "colab": {
          "base_uri": "https://localhost:8080/"
        },
        "outputId": "285f5e64-2f46-4e04-92bf-9e9c12fbf29b"
      },
      "execution_count": 42,
      "outputs": [
        {
          "output_type": "stream",
          "name": "stdout",
          "text": [
            "11.5\n",
            "8.5\n",
            "6.666666666666667\n",
            "15.0\n",
            "6.0\n",
            "1.0\n",
            "31.622776601683793\n"
          ]
        }
      ]
    },
    {
      "cell_type": "markdown",
      "source": [
        "4. Використовуючи змінні з вправи 3, продемонструйте механізм явного перетворення типів, де числа з рухомою комою перетворюються на цілі числа. Також визначте змінну, що посилається на значення булевого типу і спробуйте явно привести її до цілого числа."
      ],
      "metadata": {
        "id": "1kBClKgPzZnC"
      }
    },
    {
      "cell_type": "code",
      "source": [
        "float_to_int = int(num2)\n",
        "false_bool = False\n",
        "bool_to_int = int(false_bool)\n",
        "print(float_to_int)\n",
        "print(bool_to_int)"
      ],
      "metadata": {
        "id": "TbqJbkeUcKsD",
        "colab": {
          "base_uri": "https://localhost:8080/"
        },
        "outputId": "91d7c423-4cf9-4cd8-826f-a51963f13dd8"
      },
      "execution_count": 43,
      "outputs": [
        {
          "output_type": "stream",
          "name": "stdout",
          "text": [
            "1\n",
            "0\n"
          ]
        }
      ]
    },
    {
      "cell_type": "markdown",
      "source": [
        "# IІІ. Рядки (String)."
      ],
      "metadata": {
        "id": "EVJ7AflwxrZi"
      }
    },
    {
      "cell_type": "markdown",
      "source": [
        "5. Створити пустий рядок двома різними способами."
      ],
      "metadata": {
        "id": "_s5ECzz9zE61"
      }
    },
    {
      "cell_type": "code",
      "source": [
        "empty_str_1 = \"\"\n",
        "empty_str_2 = str()"
      ],
      "metadata": {
        "id": "fkZJHu9Scvc-"
      },
      "execution_count": 44,
      "outputs": []
    },
    {
      "cell_type": "markdown",
      "source": [
        "6. Створити рядок з апострофом. Зробити його сирим. Вивести обидва рядка на екран."
      ],
      "metadata": {
        "id": "4Bdn9J3MzLf_"
      }
    },
    {
      "cell_type": "code",
      "source": [
        "simple_str = 'I\\'m Dasha'\n",
        "raw_str = r'I\\'m Dasha'\n",
        "print(simple_str)\n",
        "print(raw_str)"
      ],
      "metadata": {
        "id": "ivji_hsmc0GH",
        "colab": {
          "base_uri": "https://localhost:8080/"
        },
        "outputId": "61ed7ccd-ba5f-40ba-a475-cb9c7847ae88"
      },
      "execution_count": 45,
      "outputs": [
        {
          "output_type": "stream",
          "name": "stdout",
          "text": [
            "I'm Dasha\n",
            "I\\'m Dasha\n"
          ]
        }
      ]
    },
    {
      "cell_type": "markdown",
      "source": [
        "7. Створити змінну, що буде посилатися на Ваше прізвище латинкою. Створити форматований рядок, який буде мати вигляд \"My surname is ______\", де на місці нижніх підкреслень буде Ваше прізвище зі змінної."
      ],
      "metadata": {
        "id": "bg_d8wM4z8dS"
      }
    },
    {
      "cell_type": "code",
      "source": [
        "my_surname = \"Vetrykush\"\n",
        "my_surname_is = f\"My surname is {my_surname}\"\n",
        "print(my_surname_is)"
      ],
      "metadata": {
        "id": "kuxFgpWndACq",
        "colab": {
          "base_uri": "https://localhost:8080/"
        },
        "outputId": "d5660f6e-76be-4619-da89-bbbb9b59fcba"
      },
      "execution_count": 46,
      "outputs": [
        {
          "output_type": "stream",
          "name": "stdout",
          "text": [
            "My surname is Vetrykush\n"
          ]
        }
      ]
    },
    {
      "cell_type": "markdown",
      "source": [
        "8. Маючи рядок \"My dog is crazy.\" перетворити його на список [\"my\", \"dog\", \"is\", \"crazy\"]"
      ],
      "metadata": {
        "id": "1Nc6RqvQ0hxU"
      }
    },
    {
      "cell_type": "code",
      "source": [
        "my_string = \"My dog is crazy.\"\n",
        "my_string_list = my_string.lower()[:-1].split(\" \")\n",
        "print(my_string_list)"
      ],
      "metadata": {
        "id": "w1Ya4RqedUhw",
        "colab": {
          "base_uri": "https://localhost:8080/"
        },
        "outputId": "8b76f1e1-ba22-493e-db37-687873fb452a"
      },
      "execution_count": 47,
      "outputs": [
        {
          "output_type": "stream",
          "name": "stdout",
          "text": [
            "['my', 'dog', 'is', 'crazy']\n"
          ]
        }
      ]
    },
    {
      "cell_type": "markdown",
      "source": [
        "# IV. Робота зі списками."
      ],
      "metadata": {
        "id": "GYVqN9uP1D4n"
      }
    },
    {
      "cell_type": "markdown",
      "source": [
        "9. Створити список двома різними за синтаксисом способами. За допомогою вбудованої функції обчисліть довжину одного з них."
      ],
      "metadata": {
        "id": "7-DeDunw2sO-"
      }
    },
    {
      "cell_type": "code",
      "source": [
        "my_list_1 = [1, 2, 3, 4, 5]\n",
        "my_list_2 = list((6, 7, 8))\n",
        "print(len(my_list_1))"
      ],
      "metadata": {
        "id": "zxg06Uuxdyoh",
        "colab": {
          "base_uri": "https://localhost:8080/"
        },
        "outputId": "59339122-5ef7-4080-e3dd-6b5e25d954c6"
      },
      "execution_count": 48,
      "outputs": [
        {
          "output_type": "stream",
          "name": "stdout",
          "text": [
            "5\n"
          ]
        }
      ]
    },
    {
      "cell_type": "markdown",
      "source": [
        "10. Створіть два списка та за допомогою спеціального методу додайте другий з них в якості останнього елемента першого."
      ],
      "metadata": {
        "id": "8vmGUTjL22gI"
      }
    },
    {
      "cell_type": "code",
      "source": [
        "list_1 = [1, 2, 3, 4, 5]\n",
        "list_2 = [6, 7, 8]\n",
        "list_1.append(list_2)\n",
        "print(list_1)"
      ],
      "metadata": {
        "id": "uHtjWYw7d7hm",
        "colab": {
          "base_uri": "https://localhost:8080/"
        },
        "outputId": "4b74d254-a673-4087-efdd-29d1bf7ac29e"
      },
      "execution_count": 49,
      "outputs": [
        {
          "output_type": "stream",
          "name": "stdout",
          "text": [
            "[1, 2, 3, 4, 5, [6, 7, 8]]\n"
          ]
        }
      ]
    },
    {
      "cell_type": "markdown",
      "source": [
        "11. Створіть список, де елементами цього списку також є списки. Отримай перший елемент з останнього рядка та виведи значення на екран."
      ],
      "metadata": {
        "id": "JC3BkD-67_--"
      }
    },
    {
      "cell_type": "code",
      "source": [
        "list_of_lists = [[1, 2], [3, 4]]\n",
        "print(list_of_lists[-1][0])"
      ],
      "metadata": {
        "id": "Kz2jZHsGeLlz",
        "colab": {
          "base_uri": "https://localhost:8080/"
        },
        "outputId": "af339c6d-b551-4dc0-b227-5581ed0984a5"
      },
      "execution_count": 50,
      "outputs": [
        {
          "output_type": "stream",
          "name": "stdout",
          "text": [
            "3\n"
          ]
        }
      ]
    },
    {
      "cell_type": "markdown",
      "source": [
        "12. Створіть список з десяти елементів різного типу. Отримайте всі елементи, окрім двох перших та двох останніх та збережіть їх в новій змінній."
      ],
      "metadata": {
        "id": "JA47PKTv8zFK"
      }
    },
    {
      "cell_type": "code",
      "source": [
        "diff_types = list((1, 2.4, \"string1\", [3, 4, 5], True, [\"a\", \"b\", \"c\"], False, {\"m\", \"n\", \"k\"}, (2, 6, 7), {\"name\" : \"Dasha\"}))\n",
        "diff_types_sliced = diff_types[2:-2]\n",
        "print(diff_types_sliced)"
      ],
      "metadata": {
        "id": "_rHdUR-ueP4-",
        "colab": {
          "base_uri": "https://localhost:8080/"
        },
        "outputId": "d1898224-c0a4-4ddd-b3be-e4fff31c1ec5"
      },
      "execution_count": 51,
      "outputs": [
        {
          "output_type": "stream",
          "name": "stdout",
          "text": [
            "['string1', [3, 4, 5], True, ['a', 'b', 'c'], False, {'n', 'm', 'k'}]\n"
          ]
        }
      ]
    },
    {
      "cell_type": "markdown",
      "source": [
        "# V. Робота з кортежами."
      ],
      "metadata": {
        "id": "pCjR1dJb1Qbi"
      }
    },
    {
      "cell_type": "markdown",
      "source": [
        "14. Створити кортеж з один елементом."
      ],
      "metadata": {
        "id": "fAZCxAX06R_k"
      }
    },
    {
      "cell_type": "code",
      "source": [
        "my_tuple = (4,)"
      ],
      "metadata": {
        "id": "H7d82WkQev3e"
      },
      "execution_count": 52,
      "outputs": []
    },
    {
      "cell_type": "markdown",
      "source": [
        "15. Порівняйте список та кортеж. Назвіть схожості та відмінності, випадки використання."
      ],
      "metadata": {
        "id": "8LCtYcmI6w1M"
      }
    },
    {
      "cell_type": "markdown",
      "source": [
        "**Схожості:**\n",
        "\n",
        "*   список і кортеж є різновидами послідовностей, в яких зберігається порядок елементів\n",
        "*   в обох структурах елементи можуть повторюватись\n",
        "\n",
        "\n",
        "\n",
        "**Відмінності:**\n",
        "*   для створення списку використовуються квадратні дужки [], а для створення кортежа круглі ()\n",
        "*   список є змінною структурою, а кортеж незмінною\n",
        "*   кортеж зазвичай використовують для зберігання елементів одного типу, а список за своїм призначенням є гетерогенним.\n",
        "*   за рахунок незмінності кортеж працює швидше за список\n",
        "\n",
        "Список використовується, коли потрібно зберігати впорядковані елементи 1 або більше різних типів, також коли важлива динаміка, тобто можливість динамічно змінювати його вміст.\n",
        "Кортеж використовується у випадках, коли є необхідність зберігати впорядковану структуру, яка зазвичай складається з елементів одного типу, яку ніхто не має права модифікувати.\n",
        "\n",
        "\n",
        "\n"
      ],
      "metadata": {
        "id": "fUsN1Hnue0C6"
      }
    },
    {
      "cell_type": "markdown",
      "source": [
        "16. Створіть кортеж з 11ти елементів чисел з рухомою комою та отримайте кожен парний за індексом елемент в зворотньому порядку. Наприклад, маючи (1.2, 2.3, 3.3, 4.3, 5.3, 6.3, 7.3, 8.3, 9.3, 0.3), отримати (0.3, 8.3, 6.3, 4.3, 2.3). Результат збережіть в нову змінну та виведіть на екран."
      ],
      "metadata": {
        "id": "m0xrwFijAmDD"
      }
    },
    {
      "cell_type": "code",
      "source": [
        "float_tuple = (1.2, 1.4, 1.6, 1.8, 2.2, 2.4, 2.6, 2.8, 3.2, 3.4, 3.6)\n",
        "float_tuple_sliced = float_tuple[::-2]\n",
        "print(float_tuple_sliced)"
      ],
      "metadata": {
        "id": "p-5DAH6XfAGA",
        "colab": {
          "base_uri": "https://localhost:8080/"
        },
        "outputId": "cf831a73-09b3-43a7-efa5-f5e74b0191a9"
      },
      "execution_count": 53,
      "outputs": [
        {
          "output_type": "stream",
          "name": "stdout",
          "text": [
            "(3.6, 3.2, 2.6, 2.2, 1.6, 1.2)\n"
          ]
        }
      ]
    },
    {
      "cell_type": "markdown",
      "source": [
        "# VI. Множини (Set)."
      ],
      "metadata": {
        "id": "rW_I9dt3x6cW"
      }
    },
    {
      "cell_type": "markdown",
      "source": [
        "17. Створити множину без елементів. Після цого за допомогою методу додайте кілька різних елементів до множини. Чи множини є змінним типом даних?"
      ],
      "metadata": {
        "id": "zNjRLHLw1Bgg"
      }
    },
    {
      "cell_type": "code",
      "source": [
        "my_set = set()\n",
        "my_set.add(5)\n",
        "my_set.add(True)\n",
        "my_set.add(\"abc\")\n",
        "print(my_set)"
      ],
      "metadata": {
        "id": "KOv7zc2Kfo4N",
        "colab": {
          "base_uri": "https://localhost:8080/"
        },
        "outputId": "d57bbd30-402b-458c-a7df-e8cc700367ae"
      },
      "execution_count": 54,
      "outputs": [
        {
          "output_type": "stream",
          "name": "stdout",
          "text": [
            "{True, 'abc', 5}\n"
          ]
        }
      ]
    },
    {
      "cell_type": "markdown",
      "source": [
        "Множина є змінним типом даних."
      ],
      "metadata": {
        "id": "vxS6dVYiftZQ"
      }
    },
    {
      "cell_type": "markdown",
      "source": [
        "18. Створити множину, маючи список my_list = [1, 1, 2, 67, 67, 8, 9]. Пояснити, чому \"зникли\" деякі елементи."
      ],
      "metadata": {
        "id": "gHpT0Zw_1HEF"
      }
    },
    {
      "cell_type": "code",
      "source": [
        "my_list = [1, 1, 2, 67, 67, 8, 9]\n",
        "set_from_list = set(my_list);\n",
        "print(set_from_list)"
      ],
      "metadata": {
        "id": "qCN4uvJ_fxmu",
        "colab": {
          "base_uri": "https://localhost:8080/"
        },
        "outputId": "0e3d7dfe-b0d7-47e6-daa7-f0aa4e87e93c"
      },
      "execution_count": 55,
      "outputs": [
        {
          "output_type": "stream",
          "name": "stdout",
          "text": [
            "{1, 2, 67, 8, 9}\n"
          ]
        }
      ]
    },
    {
      "cell_type": "markdown",
      "source": [
        "При створенні множини зі списку зникли елементи, які мали дублікати у списку, тому що множина може містити лише унікальні елементии."
      ],
      "metadata": {
        "id": "tFNc1e20fyny"
      }
    },
    {
      "cell_type": "markdown",
      "source": [
        "19. Створіть дві множини. Продемонстуйте над ними операції: обʼєднання, різниці, пересічі та симетричної різниці. Використовуйте методи, що не змінюють множини, а створюють нові."
      ],
      "metadata": {
        "id": "SRMkGizS1UwY"
      }
    },
    {
      "cell_type": "code",
      "source": [
        "my_set_1 = {1, 2, 3, 4}\n",
        "my_set_2 = {3, 4, 5, 6}\n",
        "set_union = my_set_1.union(my_set_2)\n",
        "print(set_union)\n",
        "set_diff = my_set_1.difference(my_set_2)\n",
        "print(set_diff)\n",
        "set_inter = my_set_1.intersection(my_set_2)\n",
        "print(set_inter)\n",
        "set_symm_diff = my_set_1.symmetric_difference(my_set_2)\n",
        "print(set_symm_diff)"
      ],
      "metadata": {
        "id": "h0T-VuDnf3Ri",
        "colab": {
          "base_uri": "https://localhost:8080/"
        },
        "outputId": "836a9325-ec3e-47b2-fcc3-88991da450bf"
      },
      "execution_count": 56,
      "outputs": [
        {
          "output_type": "stream",
          "name": "stdout",
          "text": [
            "{1, 2, 3, 4, 5, 6}\n",
            "{1, 2}\n",
            "{3, 4}\n",
            "{1, 2, 5, 6}\n"
          ]
        }
      ]
    },
    {
      "cell_type": "markdown",
      "source": [
        "# VII. Словники (Dictionary)."
      ],
      "metadata": {
        "id": "kWc8gkzTx7Ea"
      }
    },
    {
      "cell_type": "markdown",
      "source": [
        "20. Створіть пустий словник. До нього додайте чотири пари елементів такі, щоб їхні ключі були різних типів. Чи може список бути ключем? Чому?"
      ],
      "metadata": {
        "id": "i5FLwj-B2ybQ"
      }
    },
    {
      "cell_type": "code",
      "source": [
        "my_dict = dict()\n",
        "my_dict.update({1.5 : \"a\"})\n",
        "my_dict.update({\"string\" : \"b\"})\n",
        "my_dict.update({True : \"c\"})\n",
        "my_dict.update({(1, 2, 3) : \"d\"})\n",
        "print(my_dict.items())"
      ],
      "metadata": {
        "id": "hxgv3BzrgLAV",
        "colab": {
          "base_uri": "https://localhost:8080/"
        },
        "outputId": "cb6dec24-0620-42f9-8331-dd4ec763b804"
      },
      "execution_count": 57,
      "outputs": [
        {
          "output_type": "stream",
          "name": "stdout",
          "text": [
            "dict_items([(1.5, 'a'), ('string', 'b'), (True, 'c'), ((1, 2, 3), 'd')])\n"
          ]
        }
      ]
    },
    {
      "cell_type": "markdown",
      "source": [
        "Список не може бути ключем в словнику, бо список є змінним типом, а ключі можуть бути виключно незмінними."
      ],
      "metadata": {
        "id": "zwa7UVN-gR3m"
      }
    },
    {
      "cell_type": "markdown",
      "source": [
        "21. Створіть словник, де значенням в одній з пар теж буде словник, який теж має вкладений словник. Виведіть на екран значення, що міститься в словнику, що знаходиться на найнижчому рівні ієрархії вкладеності (найбільш внутрішній)."
      ],
      "metadata": {
        "id": "WM_pMlJsgoNf"
      }
    },
    {
      "cell_type": "code",
      "source": [
        "nested_dict = {\"first_level_1\" : {\"second_level_1\" : 1, \"second_level_2\" : {\"third_level\" : 2}}, \"first_level_2\" : 3}\n",
        "print(nested_dict.get(\"first_level_1\").get(\"second_level_2\").get(\"third_level\"))"
      ],
      "metadata": {
        "id": "60dlP7IHhAy4",
        "colab": {
          "base_uri": "https://localhost:8080/"
        },
        "outputId": "25e8ac3e-37cd-40cf-aa92-c7977c1f49ec"
      },
      "execution_count": 58,
      "outputs": [
        {
          "output_type": "stream",
          "name": "stdout",
          "text": [
            "2\n"
          ]
        }
      ]
    },
    {
      "cell_type": "markdown",
      "source": [
        "# Вітаю! Ви велика(ий) молодець, що впоралась(вся). Похваліть себе та побалуйте чимось приємним. Я Вами пишаюся."
      ],
      "metadata": {
        "id": "xOZP0hkx6cCr"
      }
    }
  ]
}